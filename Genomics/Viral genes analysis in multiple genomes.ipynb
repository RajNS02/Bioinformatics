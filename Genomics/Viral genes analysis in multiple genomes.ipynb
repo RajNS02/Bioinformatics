{
 "cells": [
  {
   "cell_type": "markdown",
   "id": "9f36118c",
   "metadata": {},
   "source": [
    "## Installing libraries:"
   ]
  },
  {
   "cell_type": "code",
   "execution_count": 1,
   "id": "88fcaf40",
   "metadata": {},
   "outputs": [
    {
     "name": "stdout",
     "output_type": "stream",
     "text": [
      "Requirement already satisfied: biopython in c:\\users\\hp\\appdata\\roaming\\python\\python38\\site-packages (1.80)\n",
      "Requirement already satisfied: numpy in c:\\users\\hp\\anaconda3\\lib\\site-packages (from biopython) (1.20.1)\n",
      "Requirement already satisfied: pandas in c:\\users\\hp\\anaconda3\\lib\\site-packages (1.2.4)\n",
      "Requirement already satisfied: python-dateutil>=2.7.3 in c:\\users\\hp\\anaconda3\\lib\\site-packages (from pandas) (2.8.1)\n",
      "Requirement already satisfied: pytz>=2017.3 in c:\\users\\hp\\anaconda3\\lib\\site-packages (from pandas) (2021.1)\n",
      "Requirement already satisfied: numpy>=1.16.5 in c:\\users\\hp\\anaconda3\\lib\\site-packages (from pandas) (1.20.1)\n",
      "Requirement already satisfied: six>=1.5 in c:\\users\\hp\\anaconda3\\lib\\site-packages (from python-dateutil>=2.7.3->pandas) (1.15.0)\n"
     ]
    }
   ],
   "source": [
    "!pip install biopython\n",
    "!pip install pandas"
   ]
  },
  {
   "cell_type": "markdown",
   "id": "da348972",
   "metadata": {},
   "source": [
    "## Importing libraries:"
   ]
  },
  {
   "cell_type": "code",
   "execution_count": 2,
   "id": "d567937f",
   "metadata": {},
   "outputs": [],
   "source": [
    "from Bio import SeqIO\n",
    "from glob import glob\n",
    "from collections import Counter\n",
    "import pandas as pd\n",
    "import os\n",
    "from itertools import chain"
   ]
  },
  {
   "cell_type": "markdown",
   "id": "d0877224",
   "metadata": {},
   "source": [
    "## Organizing all the genbank files into a list:"
   ]
  },
  {
   "cell_type": "code",
   "execution_count": 3,
   "id": "0209f03c",
   "metadata": {},
   "outputs": [],
   "source": [
    "# Returns current directory \n",
    "file_path = os.getcwd()\n",
    "\n",
    "# Search for all files in the current directory with .gb extension\n",
    "file_names = glob(file_path + \"/*.gb\") \n",
    "\n",
    "# Storing all the genbank files into a list after processing through SeqIO():\n",
    "gb_objs = [SeqIO.read(file_names[i], \"gb\") for i in range(len(file_names))]"
   ]
  },
  {
   "cell_type": "markdown",
   "id": "018431aa",
   "metadata": {},
   "source": [
    "## Searching for viral genes in all of the genbank files:"
   ]
  },
  {
   "cell_type": "code",
   "execution_count": 4,
   "id": "1dbbad91",
   "metadata": {},
   "outputs": [],
   "source": [
    "# Creating our text object:\n",
    "vir_genes_txt = file_path + '\\\\vir_factors.txt'\n",
    "\n",
    "# Storing name of each gene in a list using file reading:\n",
    "with open(vir_genes_txt, 'r') as input_file:\n",
    "    \n",
    "    vir_genes = [gene.strip() for gene in input_file]"
   ]
  },
  {
   "cell_type": "code",
   "execution_count": 5,
   "id": "da7c2123",
   "metadata": {},
   "outputs": [],
   "source": [
    "# Storing all the gene sequence objects of each genome in a 2D list:\n",
    "genes_list_all = [[gene for gene in gb_objs[i].features if gene.type == 'gene'] for i in range(len(gb_objs))]"
   ]
  },
  {
   "cell_type": "code",
   "execution_count": 6,
   "id": "3bc82429",
   "metadata": {},
   "outputs": [],
   "source": [
    "# Creating an empty 2D list for storing all the viral gene sequences: \n",
    "vir_gene_seq = [[] for i in range(len(gb_objs))]\n",
    "\n",
    "# Storing all the viral gene sequences from each bacterial genome: \n",
    "for i in range(len(gb_objs)):\n",
    "    \n",
    "    for gene in genes_list_all[i]:\n",
    "\n",
    "        if 'gene' in gene.qualifiers.keys():\n",
    "\n",
    "            gene_name = gene.qualifiers['gene'][0]\n",
    "\n",
    "            if gene_name in vir_genes:\n",
    "                extract = gene.extract(gb_objs[i])\n",
    "                extract.id = gene_name\n",
    "                vir_gene_seq[i].append(extract)"
   ]
  },
  {
   "cell_type": "code",
   "execution_count": 29,
   "id": "96356ff6",
   "metadata": {},
   "outputs": [
    {
     "name": "stdout",
     "output_type": "stream",
     "text": [
      "e_coli has the following viral genes:\n",
      "['ecpE', 'ecpD', 'ecpC', 'ecpB', 'ecpA', 'ecpR', 'paa', 'lpfB', 'espF', 'escF', 'cesD', 'espB', 'espD', 'espA', 'sepL', 'escD', 'eae', 'tir', 'escN', 'escV', 'escJ', 'escC', 'cesD', 'escU', 'escT', 'escS', 'ler', 'lpfA'] \n",
      "\n",
      "Mycobacterium tuberculosis has the following viral genes:\n",
      "['espD', 'espA', 'espF', 'espB'] \n",
      "\n"
     ]
    }
   ],
   "source": [
    "# Determing the bacterial genome that has any one of the viral genes:\n",
    "\n",
    "for i in range(len(gb_objs)):\n",
    "    \n",
    "    if vir_gene_seq[i] != []:\n",
    "        \n",
    "        vir_gene_names = []\n",
    "        \n",
    "        for j in range(len(vir_gene_seq[i])):\n",
    "            vir_gene_names.append(vir_gene_seq[i][j].id)\n",
    "            \n",
    "        print((os.path.split(file_names[i])[-1]).strip(\".gb\") + \" has the following viral genes:\\n\" + str(vir_gene_names), \"\\n\")"
   ]
  },
  {
   "cell_type": "code",
   "execution_count": 32,
   "id": "723e8c2a",
   "metadata": {},
   "outputs": [
    {
     "name": "stdout",
     "output_type": "stream",
     "text": [
      "Fasta file for the viral genes in e_coli has been saved\n",
      "Fasta file for the viral genes in Mycobacterium tuberculosis has been saved\n",
      "Pneumoniae genome doesn't contain any viral genes in it\n",
      "salmonella genome doesn't contain any viral genes in it\n"
     ]
    }
   ],
   "source": [
    "# Saving all the viral genes in a fasta file for each bacterial genome:\n",
    "\n",
    "for i in range(len(vir_gene_seq)):\n",
    "    \n",
    "    if vir_gene_seq[i] != []:\n",
    "        fasta_file = os.getcwd() + \"\\\\vir_genes_\" + (os.path.split(file_names[i])[-1]).strip(\".gb\") + \".fasta\"\n",
    "        SeqIO.write(vir_gene_seq[i], fasta_file, \"fasta\")\n",
    "        print(\"Fasta file for the viral genes in \" + (os.path.split(file_names[i])[-1]).strip(\".gb\") + \" has been saved\")\n",
    "    else:\n",
    "        print((os.path.split(file_names[i])[-1]).strip(\".gb\") + \" genome doesn't contain any viral genes in it\")"
   ]
  },
  {
   "cell_type": "markdown",
   "id": "58f56817",
   "metadata": {},
   "source": [
    "## Further Analysis:"
   ]
  },
  {
   "cell_type": "markdown",
   "id": "dfbcfae3",
   "metadata": {},
   "source": [
    "### Counting the number of unique gene sequences in each genbank file:"
   ]
  },
  {
   "cell_type": "code",
   "execution_count": 35,
   "id": "fae57bbf",
   "metadata": {},
   "outputs": [
    {
     "name": "stdout",
     "output_type": "stream",
     "text": [
      "[{'source': 1, 'gene': 5329, 'CDS': 5067, 'misc_feature': 160, 'rRNA': 22, 'tRNA': 103, 'repeat_region': 65, 'tmRNA': 1}, {'source': 1, 'gene': 4069, 'CDS': 3948, 'tRNA': 45, 'repeat_region': 262, 'misc_feature': 29, 'ncRNA': 22, 'mobile_element': 56, 'rRNA': 3, 'tmRNA': 1}, {'source': 1, 'gene': 2402, 'CDS': 2155, 'tRNA': 55, 'rRNA': 12, 'ncRNA': 2, 'misc_binding': 7, 'misc_feature': 8, 'tmRNA': 1}, {'source': 1, 'gene': 4649, 'CDS': 4323, 'rRNA': 22, 'tRNA': 78, 'misc_RNA': 9, 'misc_feature': 4}]\n"
     ]
    }
   ],
   "source": [
    "features_counts = []\n",
    "\n",
    "for i in range(len(file_names)):\n",
    "    \n",
    "    features_counts_each = dict(Counter([features.type for features in gb_objs[i].features])) \n",
    "    features_counts.append(features_counts_each)\n",
    "\n",
    "print(features_counts)"
   ]
  },
  {
   "cell_type": "code",
   "execution_count": 37,
   "id": "18811757",
   "metadata": {},
   "outputs": [
    {
     "name": "stdout",
     "output_type": "stream",
     "text": [
      "{'gene', 'repeat_region', 'source', 'misc_RNA', 'tmRNA', 'ncRNA', 'CDS', 'mobile_element', 'misc_binding', 'misc_feature', 'tRNA', 'rRNA'}\n"
     ]
    }
   ],
   "source": [
    "# Set of unique gene sequences across all the genebank files:\n",
    "features_set = set(chain.from_iterable([list(features_counts[i].keys()) for i in range(len(gb_objs))]))\n",
    "print(features_set)"
   ]
  },
  {
   "cell_type": "markdown",
   "id": "6efeeba3",
   "metadata": {},
   "source": [
    "### Creating a pandas dataframe to store the counts of each unique gene sequence:"
   ]
  },
  {
   "cell_type": "code",
   "execution_count": 39,
   "id": "e9bcb9ae",
   "metadata": {},
   "outputs": [],
   "source": [
    "# Creates an universal list of unique gene seqeunces and their counts\n",
    "for i in range(len(features_counts)):\n",
    "    \n",
    "    for feature in features_set:\n",
    "    \n",
    "        if feature not in features_counts[i].keys():\n",
    "            features_counts[i][feature] = 0\n",
    "            \n",
    "# Creating a pandas dataframe\n",
    "df = pd.DataFrame(features_counts)\n",
    "\n",
    "df['GenBank file'] = [(os.path.split(file_names[i])[-1]).strip(\".gb\") for i in range(len(gb_objs))]\n",
    "df = df.set_index(\"GenBank file\")\n",
    "\n",
    "# Saving pandas dataframe as csv file:\n",
    "df.to_csv(os.getcwd() + \"\\\\GenBank files features count.csv\", index = True)"
   ]
  }
 ],
 "metadata": {
  "kernelspec": {
   "display_name": "Python 3",
   "language": "python",
   "name": "python3"
  },
  "language_info": {
   "codemirror_mode": {
    "name": "ipython",
    "version": 3
   },
   "file_extension": ".py",
   "mimetype": "text/x-python",
   "name": "python",
   "nbconvert_exporter": "python",
   "pygments_lexer": "ipython3",
   "version": "3.8.8"
  }
 },
 "nbformat": 4,
 "nbformat_minor": 5
}
